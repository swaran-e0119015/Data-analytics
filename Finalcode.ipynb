{
 "cells": [
  {
   "cell_type": "code",
   "execution_count": 1,
   "metadata": {},
   "outputs": [],
   "source": [
    "import pandas as pd\n",
    "import numpy as np\n",
    "import seaborn as sns\n",
    "import matplotlib.pyplot as plt\n",
    "%matplotlib inline\n",
    "from sklearn.preprocessing import StandardScaler, PolynomialFeatures\n",
    "from sklearn.feature_selection import SelectKBest, f_regression"
   ]
  },
  {
   "cell_type": "code",
   "execution_count": 2,
   "metadata": {},
   "outputs": [],
   "source": [
    "d=pd.read_excel(\"fifa_cleaned.xlsx\")"
   ]
  },
  {
   "cell_type": "code",
   "execution_count": 3,
   "metadata": {},
   "outputs": [],
   "source": [
    "# Convert the column to string data type\n",
    "d['club_team'] = d['club_team'].astype(str)\n",
    "d['contract_end_year'] = d['contract_end_year'].astype(str)\n",
    "d['full_name'] = d['full_name'].astype(str)\n",
    "d['club_position'] = d['club_position'].astype(str)\n",
    "d['national_team'] = d['national_team'].astype(str)\n",
    "d['national_team_position'] = d['national_team_position'].astype(str)\n",
    "d['tags'] = d['tags'].astype(str)\n",
    "d['traits'] = d['traits'].astype(str)\n",
    "d['nationality'] = d['nationality'].astype(str)"
   ]
  },
  {
   "cell_type": "code",
   "execution_count": 4,
   "metadata": {},
   "outputs": [],
   "source": [
    "from sklearn.preprocessing import LabelEncoder\n",
    "le = LabelEncoder()\n",
    "\n",
    "d['name'] = le.fit_transform(d['name'])\n",
    "d['full_name'] = le.fit_transform(d['full_name'])\n",
    "d['preferred_foot'] = le.fit_transform(d['preferred_foot'])\n",
    "d['positions'] = le.fit_transform(d['positions'])\n",
    "d['nationality'] = le.fit_transform(d['nationality'])\n",
    "d['work_rate'] = le.fit_transform(d['work_rate'])\n",
    "d['body_type'] = le.fit_transform(d['body_type'])\n",
    "d['club_team'] = le.fit_transform(d['club_team'])\n",
    "d['work_rate'] = le.fit_transform(d['work_rate'])\n",
    "d['club_position'] = le.fit_transform(d['club_position'])\n",
    "d['contract_end_year'] = le.fit_transform(d['contract_end_year'])\n",
    "d['national_team'] = le.fit_transform(d['national_team'])\n",
    "d['national_team_position'] = le.fit_transform(d['national_team_position'])\n",
    "d['tags'] = le.fit_transform(d['tags'])\n",
    "d['traits'] = le.fit_transform(d['traits'])"
   ]
  },
  {
   "cell_type": "code",
   "execution_count": 5,
   "metadata": {
    "scrolled": true
   },
   "outputs": [
    {
     "name": "stdout",
     "output_type": "stream",
     "text": [
      "id              0\n",
      "name            0\n",
      "full_name       0\n",
      "age             0\n",
      "height_cm       0\n",
      "             ... \n",
      "lb           2065\n",
      "lcb          2065\n",
      "cb           2065\n",
      "rcb          2065\n",
      "rb           2065\n",
      "Length: 90, dtype: int64\n",
      "id           0\n",
      "name         0\n",
      "full_name    0\n",
      "age          0\n",
      "height_cm    0\n",
      "            ..\n",
      "lb           0\n",
      "lcb          0\n",
      "cb           0\n",
      "rcb          0\n",
      "rb           0\n",
      "Length: 90, dtype: int64\n"
     ]
    }
   ],
   "source": [
    "print(d.isnull().sum())\n",
    "print(d.isin([np.inf, -np.inf]).sum())\n",
    "\n",
    "# Replace null and infinity values with 0\n",
    "d.fillna(d.mean(), inplace=True)\n",
    "# Replace infinity values with a large number such as 1e+9\n",
    "d.replace([np.inf, -np.inf], 1e+9, inplace=True)"
   ]
  },
  {
   "cell_type": "code",
   "execution_count": 6,
   "metadata": {},
   "outputs": [
    {
     "data": {
      "text/plain": [
       "LinearRegression()"
      ]
     },
     "execution_count": 6,
     "metadata": {},
     "output_type": "execute_result"
    }
   ],
   "source": [
    "from sklearn.linear_model import LinearRegression\n",
    "from sklearn.model_selection import train_test_split\n",
    "# Identify the target variable and features\n",
    "target_variable = 'overall_rating'  \n",
    "feature_names = [ 'crossing', 'finishing','curve','agility']  \n",
    "# Split the dataset into features and target variable\n",
    "x = d[feature_names]\n",
    "y = d[target_variable]\n",
    "# Remove outliers in the features\n",
    "for col in ['crossing', 'finishing', 'curve', 'agility']:\n",
    "    d = d[(d[col] >= d[col].quantile(0.01)) & (d[col] <= d[col].quantile(0.99))]\n",
    "\n",
    "# Remove outliers in the target variable\n",
    "d = d[(d['overall_rating'] >= d['overall_rating'].quantile(0.01)) & (d['overall_rating'] <= d['overall_rating'].quantile(0.99))]\n",
    "\n",
    "# Separate features and target variable\n",
    "x = d.drop(['overall_rating'], axis=1)\n",
    "y = d['overall_rating']\n",
    "\n",
    "# Scale the features\n",
    "scaler = StandardScaler()\n",
    "x_scaled = scaler.fit_transform(x)\n",
    "\n",
    "# Select the best features using f_regression\n",
    "selector = SelectKBest(f_regression, k=10)\n",
    "x_selected = selector.fit_transform(x_scaled, y)\n",
    "\n",
    "# Add polynomial features\n",
    "poly = PolynomialFeatures(degree=2, include_bias=False)\n",
    "x_poly = poly.fit_transform(x_selected)\n",
    "# Splitting the dataset into training and test set.  \n",
    "from sklearn.model_selection import train_test_split  \n",
    "x_train, x_test, y_train, y_test = train_test_split(x_poly, y, test_size=0.33, random_state=42) \n",
    "#Fitting the Simple Linear Regression model to the training dataset  \n",
    "r= LinearRegression()  \n",
    "r.fit(x_train, y_train)"
   ]
  },
  {
   "cell_type": "code",
   "execution_count": 7,
   "metadata": {},
   "outputs": [
    {
     "name": "stdout",
     "output_type": "stream",
     "text": [
      "Regression score: 0.962352682841519\n"
     ]
    }
   ],
   "source": [
    "from sklearn.metrics import r2_score\n",
    "# Predict the test set results\n",
    "y_pred= r.predict(x_test)\n",
    "\n",
    "# Calculate R2 score\n",
    "r2 = r2_score(y_test, y_pred)\n",
    "\n",
    "\n",
    "# Display the regression score\n",
    "print('Regression score:', r2)"
   ]
  },
  {
   "cell_type": "code",
   "execution_count": 8,
   "metadata": {},
   "outputs": [],
   "source": [
    "from sklearn.ensemble import BaggingClassifier"
   ]
  },
  {
   "cell_type": "code",
   "execution_count": 9,
   "metadata": {},
   "outputs": [],
   "source": [
    "# Load libraries\n",
    "import pandas as pd\n",
    "from sklearn.tree import DecisionTreeClassifier # Import Decision Tree Classifier\n",
    "from sklearn.model_selection import train_test_split # Import train_test_split function\n",
    "from sklearn import metrics #Import scikit-learn metrics module for accuracy calculation"
   ]
  },
  {
   "cell_type": "code",
   "execution_count": 10,
   "metadata": {},
   "outputs": [],
   "source": [
    "# Identify the target variable and features\n",
    "target_variable = 'overall_rating'  \n",
    "feature_names = ['crossing', 'finishing','curve','agility']  \n",
    "# Split the dataset into features and target variable\n",
    "x = d[feature_names]\n",
    "y = d[target_variable]"
   ]
  },
  {
   "cell_type": "code",
   "execution_count": 11,
   "metadata": {},
   "outputs": [],
   "source": [
    "# Create Decision Tree classifer object\n",
    "clf = DecisionTreeClassifier()\n",
    "\n",
    "# Train Decision Tree Classifer\n",
    "clf = clf.fit(x_train,y_train)\n",
    "\n",
    "#Predict the response for test dataset\n",
    "y_pred = clf.predict(x_test)"
   ]
  },
  {
   "cell_type": "code",
   "execution_count": 12,
   "metadata": {},
   "outputs": [],
   "source": [
    "bag_model = BaggingClassifier(\n",
    "base_estimator=DecisionTreeClassifier(), \n",
    "n_estimators=100, \n",
    "max_samples=0.8, \n",
    "bootstrap=True,\n",
    "oob_score=True,\n",
    "random_state=0\n",
    ")"
   ]
  },
  {
   "cell_type": "code",
   "execution_count": 13,
   "metadata": {},
   "outputs": [
    {
     "data": {
      "text/plain": [
       "BaggingClassifier(base_estimator=DecisionTreeClassifier(), max_samples=0.8,\n",
       "                  n_estimators=100, oob_score=True, random_state=0)"
      ]
     },
     "execution_count": 13,
     "metadata": {},
     "output_type": "execute_result"
    }
   ],
   "source": [
    "bag_model.fit(x_train, y_train)"
   ]
  },
  {
   "cell_type": "code",
   "execution_count": 14,
   "metadata": {},
   "outputs": [
    {
     "name": "stdout",
     "output_type": "stream",
     "text": [
      "Accuracy: 0.7529740447007931\n"
     ]
    }
   ],
   "source": [
    "# Model Accuracy, how often is the classifier correct?\n",
    "print(\"Accuracy:\",bag_model.oob_score_)"
   ]
  },
  {
   "cell_type": "code",
   "execution_count": 15,
   "metadata": {},
   "outputs": [
    {
     "name": "stdout",
     "output_type": "stream",
     "text": [
      "                  Specs         Score\n",
      "17  release_clause_euro  1.165176e+11\n",
      "9            value_euro  6.325755e+10\n",
      "10            wage_euro  1.807686e+08\n",
      "0                    id  1.095180e+07\n",
      "62               traits  3.667437e+05\n",
      "2             full_name  1.724658e+05\n",
      "75                  lcm  1.301133e+05\n",
      "76                   cm  1.301133e+05\n",
      "77                  rcm  1.301133e+05\n",
      "80                  ldm  1.252482e+05\n"
     ]
    }
   ],
   "source": [
    "from sklearn.feature_selection import SelectKBest\n",
    "from sklearn.feature_selection import chi2\n",
    "X = d.drop(['overall_rating'], axis=1)\n",
    "y = d['overall_rating']\n",
    "# Apply SelectKBest class to extract top 10 best features\n",
    "bestfeatures = SelectKBest(score_func=chi2, k=10)\n",
    "fit = bestfeatures.fit(X, y)\n",
    "dfscores = pd.DataFrame(fit.scores_)\n",
    "dfcolumns = pd.DataFrame(X.columns)\n",
    "# Concat two dataframes for better visualization\n",
    "featureScores = pd.concat([dfcolumns, dfscores], axis=1)\n",
    "featureScores.columns = ['Specs', 'Score']  # Naming the dataframe columns\n",
    "print(featureScores.nlargest(10, 'Score'))"
   ]
  },
  {
   "cell_type": "code",
   "execution_count": 16,
   "metadata": {},
   "outputs": [
    {
     "name": "stdout",
     "output_type": "stream",
     "text": [
      "Accuracy: 0.716794731064764\n"
     ]
    }
   ],
   "source": [
    "# Create Random Forest Classifier object\n",
    "from sklearn.ensemble import RandomForestClassifier\n",
    "from sklearn.metrics import accuracy_score\n",
    "clf = RandomForestClassifier(n_estimators=100, random_state=0)\n",
    "\n",
    "# Train the model using the training sets\n",
    "clf.fit(x_train, y_train)\n",
    "\n",
    "# Predict the response for test dataset\n",
    "y_pred = clf.predict(x_test)\n",
    "\n",
    "# Model Accuracy\n",
    "print(\"Accuracy:\", accuracy_score(y_test, y_pred))"
   ]
  },
  {
   "cell_type": "code",
   "execution_count": 17,
   "metadata": {},
   "outputs": [
    {
     "data": {
      "image/png": "[encoded data removed]",
      "text/plain": [
       "<Figure size 432x288 with 1 Axes>"
      ]
     },
     "metadata": {
      "needs_background": "light"
     },
     "output_type": "display_data"
    },
    {
     "data": {
      "image/png": "[encoded data removed]",
      "text/plain": [
       "<Figure size 432x288 with 1 Axes>"
      ]
     },
     "metadata": {
      "needs_background": "light"
     },
     "output_type": "display_data"
    }
   ],
   "source": [
    "from sklearn.cluster import KMeans\n",
    "import matplotlib.pyplot as plt\n",
    "# Identify the features to be used for clustering\n",
    "features = ['crossing', 'finishing', 'curve', 'agility']\n",
    "\n",
    "# Standardize the features\n",
    "scaler = StandardScaler()\n",
    "X = scaler.fit_transform(d[features])\n",
    "\n",
    "# Determine the optimal number of clusters using the elbow method\n",
    "distortions = []\n",
    "for i in range(1, 11):\n",
    "    km = KMeans(n_clusters=i, init='k-means++', n_init=10, max_iter=300, random_state=0)\n",
    "    km.fit(X)\n",
    "    distortions.append(km.inertia_)\n",
    "plt.plot(range(1,11), distortions, marker='o')\n",
    "plt.xlabel('Number of clusters')\n",
    "plt.ylabel('Distortion')\n",
    "plt.show()\n",
    "\n",
    "# Perform K-means clustering with the optimal number of clusters\n",
    "kmeans = KMeans(n_clusters=3, init='k-means++', n_init=10, max_iter=300, random_state=0)\n",
    "y_km = kmeans.fit_predict(X)\n",
    "\n",
    "# Visualize the clusters\n",
    "plt.scatter(X[y_km == 0, 0], X[y_km == 0, 1], s = 100, c = 'red', label = 'Cluster 1')\n",
    "plt.scatter(X[y_km == 1, 0], X[y_km == 1, 1], s = 100, c = 'blue', label = 'Cluster 2')\n",
    "plt.scatter(X[y_km == 2, 0], X[y_km == 2, 1], s = 100, c = 'green', label = 'Cluster 3')\n",
    "plt.scatter(kmeans.cluster_centers_[:, 0], kmeans.cluster_centers_[:, 1], s = 300, c = 'yellow', label = 'Centroids')\n",
    "plt.title('Clusters')\n",
    "plt.xlabel('X')\n",
    "plt.ylabel('Y')\n",
    "plt.legend()\n",
    "plt.show()"
   ]
  },
  {
   "cell_type": "code",
   "execution_count": 18,
   "metadata": {},
   "outputs": [
    {
     "name": "stdout",
     "output_type": "stream",
     "text": [
      "                  Specs         Score\n",
      "17  release_clause_euro  1.165176e+11\n",
      "9            value_euro  6.325755e+10\n",
      "10            wage_euro  1.807686e+08\n",
      "0                    id  1.095180e+07\n",
      "62               traits  3.667437e+05\n",
      "2             full_name  1.724658e+05\n",
      "75                  lcm  1.301133e+05\n",
      "76                   cm  1.301133e+05\n",
      "77                  rcm  1.301133e+05\n",
      "80                  ldm  1.252482e+05\n"
     ]
    }
   ],
   "source": [
    "from sklearn.feature_selection import SelectKBest\n",
    "from sklearn.feature_selection import chi2\n",
    "X = d.drop(['overall_rating'], axis=1)\n",
    "y = d['overall_rating']\n",
    "# Apply SelectKBest class to extract top 10 best features\n",
    "bestfeatures = SelectKBest(score_func=chi2, k=10)\n",
    "fit = bestfeatures.fit(X, y)\n",
    "dfscores = pd.DataFrame(fit.scores_)\n",
    "dfcolumns = pd.DataFrame(X.columns)\n",
    "# Concat two dataframes for better visualization\n",
    "featureScores = pd.concat([dfcolumns, dfscores], axis=1)\n",
    "featureScores.columns = ['Specs', 'Score']  # Naming the dataframe columns\n",
    "print(featureScores.nlargest(10, 'Score'))"
   ]
  },
  {
   "cell_type": "code",
   "execution_count": 19,
   "metadata": {},
   "outputs": [
    {
     "name": "stdout",
     "output_type": "stream",
     "text": [
      "Accuracy:0.25429930479326746\n"
     ]
    }
   ],
   "source": [
    "from sklearn.naive_bayes import GaussianNB\n",
    "from sklearn.metrics import accuracy_score\n",
    "# Split the dataset into training and test sets\n",
    "X_train, X_test, y_train, y_test = train_test_split(X, y, test_size=0.33, random_state=42)\n",
    "# Train and fit the Naive Bayes model\n",
    "model = GaussianNB()\n",
    "model.fit(X_train, y_train)\n",
    "# Predict the target variable using the test set and calculate the accuracy score\n",
    "y_pred = model.predict(X_test)\n",
    "accuracy = accuracy_score(y_test, y_pred)\n",
    "print(\"Accuracy:\",accuracy)"
   ]
  },
  {
   "cell_type": "code",
   "execution_count": 20,
   "metadata": {},
   "outputs": [
    {
     "name": "stdout",
     "output_type": "stream",
     "text": [
      "Accuracy:0.8432556454534477\n"
     ]
    }
   ],
   "source": [
    "# Create a bagging classifier object with Naive Bayes as the base estimator\n",
    "bag_clf = BaggingClassifier(\n",
    "    base_estimator=clf, \n",
    "    n_estimators=100, \n",
    "    max_samples=0.8, \n",
    "    bootstrap=True,\n",
    "    oob_score=True,\n",
    "    random_state=0)\n",
    "\n",
    "# Train the bagging classifier\n",
    "bag_clf.fit(X, y)\n",
    "\n",
    "# Compute the out-of-bag score\n",
    "print(\"Accuracy:\",bag_clf.oob_score_)"
   ]
  },
  {
   "cell_type": "code",
   "execution_count": null,
   "metadata": {},
   "outputs": [],
   "source": []
  }
 ],
 "metadata": {
  "kernelspec": {
   "display_name": "Python 3",
   "language": "python",
   "name": "python3"
  },
  "language_info": {
   "codemirror_mode": {
    "name": "ipython",
    "version": 3
   },
   "file_extension": ".py",
   "mimetype": "text/x-python",
   "name": "python",
   "nbconvert_exporter": "python",
   "pygments_lexer": "ipython3",
   "version": "3.8.5"
  }
 },
 "nbformat": 4,
 "nbformat_minor": 4
}
